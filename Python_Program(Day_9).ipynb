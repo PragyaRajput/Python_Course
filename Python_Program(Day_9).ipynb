{
 "cells": [
  {
   "cell_type": "code",
   "execution_count": 3,
   "metadata": {},
   "outputs": [
    {
     "name": "stdout",
     "output_type": "stream",
     "text": [
      "Enter some String:hello Python\n",
      "helo Pytn\n"
     ]
    }
   ],
   "source": [
    "#List Programs\n",
    "s=input(\"Enter some String:\")\n",
    "l=[]\n",
    "for x in s:\n",
    "    if x not in l:\n",
    "        l.append(x)\n",
    "output=''.join(l)\n",
    "print(output)\n"
   ]
  },
  {
   "cell_type": "code",
   "execution_count": 4,
   "metadata": {},
   "outputs": [
    {
     "name": "stdout",
     "output_type": "stream",
     "text": [
      "Enter some String:hello\n",
      "lohe\n"
     ]
    }
   ],
   "source": [
    "s=input(\"Enter some String:\")\n",
    "print(''.join(set(s)))"
   ]
  },
  {
   "cell_type": "code",
   "execution_count": 5,
   "metadata": {},
   "outputs": [
    {
     "name": "stdout",
     "output_type": "stream",
     "text": [
      "Enter some String:hello python\n",
      "{'h': 2, 'e': 1, 'l': 2, 'o': 2, ' ': 1, 'p': 1, 'y': 1, 't': 1, 'n': 1}\n",
      "h =2\n",
      "e =1\n",
      "l =2\n",
      "o =2\n",
      "  =1\n",
      "p =1\n",
      "y =1\n",
      "t =1\n",
      "n =1\n"
     ]
    }
   ],
   "source": [
    "#we have to count the occurences of character\n",
    "s=input(\"Enter some String:\")\n",
    "d={}\n",
    "for x in s:\n",
    "    if x not in d.keys():\n",
    "        d[x]=1\n",
    "    else:\n",
    "        d[x]=d[x]+1\n",
    "print(d)\n",
    "for k,v in d.items():\n",
    "    print(\"{} ={}\".format(k,v))"
   ]
  },
  {
   "cell_type": "code",
   "execution_count": 7,
   "metadata": {},
   "outputs": [
    {
     "name": "stdout",
     "output_type": "stream",
     "text": [
      "Enter some String:Python Learner\n",
      "P =1\n",
      "y =1\n",
      "t =1\n",
      "h =1\n",
      "o =1\n",
      "n =2\n",
      "  =1\n",
      "L =1\n",
      "e =2\n",
      "a =1\n",
      "r =2\n"
     ]
    }
   ],
   "source": [
    "#we have to count the occurences of character\n",
    "s=input(\"Enter some String:\")\n",
    "d={}\n",
    "for x in s:\n",
    "    d[x]=d.get(x,0)+1\n",
    "for k,v in d.items():\n",
    "    print(\"{} ={}\".format(k,v))"
   ]
  },
  {
   "cell_type": "code",
   "execution_count": 10,
   "metadata": {},
   "outputs": [
    {
     "name": "stdout",
     "output_type": "stream",
     "text": [
      "Enter some String:hello Pythn\n",
      "e =1\n",
      "o =1\n"
     ]
    }
   ],
   "source": [
    "#we have to count the occurences ofvowels in a given string\n",
    "s=input(\"Enter some String:\")\n",
    "vowel={'a','e','i','o','u'}\n",
    "d={}\n",
    "for x in s:\n",
    "    if x in vowel:\n",
    "        d[x]=d.get(x,0)+1\n",
    "for k,v in d.items():\n",
    "    print(\"{} ={}\".format(k,v))"
   ]
  },
  {
   "cell_type": "code",
   "execution_count": 6,
   "metadata": {},
   "outputs": [
    {
     "name": "stdout",
     "output_type": "stream",
     "text": [
      "dict_keys([100, 200, 300])\n",
      "dict_items([(100, 'python'), (200, 'flask'), (300, 'django')])\n",
      "dict_values(['python', 'flask', 'django'])\n",
      "100=python\n",
      "200=flask\n",
      "300=django\n"
     ]
    }
   ],
   "source": [
    "# dictionary example\n",
    "d={100:'python',200:'flask'}\n",
    "d[300]='django'\n",
    "print(d.keys())\n",
    "print(d.items())\n",
    "print(d.values())\n",
    "for k,v in d.items():\n",
    "    print(\"{}={}\".format(k,v))\n",
    "    \n"
   ]
  },
  {
   "cell_type": "code",
   "execution_count": null,
   "metadata": {},
   "outputs": [],
   "source": [
    "d={}\n",
    "type(d)"
   ]
  },
  {
   "cell_type": "code",
   "execution_count": null,
   "metadata": {},
   "outputs": [],
   "source": [
    "s=eval(input(\"Enter some List:\"))\n",
    "type(s)"
   ]
  },
  {
   "cell_type": "code",
   "execution_count": null,
   "metadata": {},
   "outputs": [],
   "source": [
    "l=list(range(0,10,2))\n",
    "print(l)"
   ]
  },
  {
   "cell_type": "code",
   "execution_count": null,
   "metadata": {},
   "outputs": [],
   "source": [
    "s='python'\n",
    "l=list(s)\n",
    "print(l)"
   ]
  },
  {
   "cell_type": "code",
   "execution_count": 1,
   "metadata": {},
   "outputs": [
    {
     "name": "stdout",
     "output_type": "stream",
     "text": [
      "['Learning', 'python!!']\n"
     ]
    }
   ],
   "source": [
    "#split function\n",
    "s=\"Learning python!!\"\n",
    "l=s.split()\n",
    "print(l)"
   ]
  },
  {
   "cell_type": "code",
   "execution_count": null,
   "metadata": {},
   "outputs": [],
   "source": [
    "#access element using while loop\n",
    "l=[10,20,30,40,50,60,20]\n",
    "i=0\n",
    "while i<len(l):\n",
    "    print(l[i])\n",
    "    i=i+1"
   ]
  },
  {
   "cell_type": "code",
   "execution_count": null,
   "metadata": {},
   "outputs": [],
   "source": [
    "l=[10,20,30,40,50,60,20]\n",
    "for x in l:\n",
    "    print(x)"
   ]
  },
  {
   "cell_type": "code",
   "execution_count": null,
   "metadata": {},
   "outputs": [],
   "source": [
    "l=[10,20,30,40,50,60,20]\n",
    "for x in l:\n",
    "    if x%2==0:\n",
    "        print(x)\n",
    "    "
   ]
  },
  {
   "cell_type": "code",
   "execution_count": null,
   "metadata": {},
   "outputs": [],
   "source": [
    "l=[10,20,30,40,50,60,20]\n",
    "i=0\n",
    "for x in l:\n",
    "    print(\"positive index at {} and negative index at {} and element is {}\".format(i,i-len(l),x))\n",
    "    i=i+1\n",
    "        \n",
    "    "
   ]
  },
  {
   "cell_type": "code",
   "execution_count": null,
   "metadata": {},
   "outputs": [],
   "source": [
    "#important functions of list\n",
    "print(len(l))   \n",
    "\n"
   ]
  },
  {
   "cell_type": "code",
   "execution_count": null,
   "metadata": {},
   "outputs": [],
   "source": [
    "l=[]\n",
    "for x in range(1,100):\n",
    "    if x%10==0:\n",
    "        l.append(x)\n",
    "print(l)"
   ]
  },
  {
   "cell_type": "code",
   "execution_count": null,
   "metadata": {},
   "outputs": [],
   "source": []
  },
  {
   "cell_type": "code",
   "execution_count": null,
   "metadata": {},
   "outputs": [],
   "source": []
  },
  {
   "cell_type": "code",
   "execution_count": null,
   "metadata": {},
   "outputs": [],
   "source": []
  }
 ],
 "metadata": {
  "kernelspec": {
   "display_name": "Python 3",
   "language": "python",
   "name": "python3"
  },
  "language_info": {
   "codemirror_mode": {
    "name": "ipython",
    "version": 3
   },
   "file_extension": ".py",
   "mimetype": "text/x-python",
   "name": "python",
   "nbconvert_exporter": "python",
   "pygments_lexer": "ipython3",
   "version": "3.8.5"
  }
 },
 "nbformat": 4,
 "nbformat_minor": 4
}
