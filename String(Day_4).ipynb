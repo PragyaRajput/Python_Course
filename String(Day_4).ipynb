{
 "cells": [
  {
   "cell_type": "markdown",
   "metadata": {},
   "source": [
    "# String\n",
    "-sequence of character enclosed with single ,double and triple quotes."
   ]
  },
  {
   "cell_type": "code",
   "execution_count": 1,
   "metadata": {},
   "outputs": [
    {
     "name": "stdout",
     "output_type": "stream",
     "text": [
      "<class 'str'>\n",
      "<class 'str'>\n",
      "<class 'str'>\n"
     ]
    }
   ],
   "source": [
    "a='ab'\n",
    "b=\"z\"\n",
    "c=\"'hello'\"\n",
    "print(type(a))\n",
    "print(type(b))\n",
    "print(type(c))"
   ]
  },
  {
   "cell_type": "markdown",
   "metadata": {},
   "source": [
    "## Access Of String Characters\n",
    "1. using index (+ve-{forward direction} and -ve-{backward direction})\n",
    "2. using slice operator"
   ]
  },
  {
   "cell_type": "markdown",
   "metadata": {},
   "source": [
    "# Indexing\n"
   ]
  },
  {
   "cell_type": "markdown",
   "metadata": {},
   "source": [
    "                               -6   -5    -4    -3     -2     -1  (-ve indexing)\n",
    "                                0    1     2     3      4      5  (+ve indexing)\n",
    "                              |----|----|-----|-----|-----|------|\n",
    "                              |  p | y  |  t  |  h  |  o  | n    |\n",
    "                              |----|----|-----|-----|-----|------|"
   ]
  },
  {
   "cell_type": "code",
   "execution_count": 2,
   "metadata": {},
   "outputs": [],
   "source": [
    "a=\"Python\""
   ]
  },
  {
   "cell_type": "code",
   "execution_count": 25,
   "metadata": {},
   "outputs": [
    {
     "name": "stdout",
     "output_type": "stream",
     "text": [
      "P\n",
      "P y t h o n\n"
     ]
    }
   ],
   "source": [
    "print(a[0])\n",
    "print(a[0],a[1],a[2],a[3],a[4],a[5])"
   ]
  },
  {
   "cell_type": "code",
   "execution_count": 27,
   "metadata": {},
   "outputs": [
    {
     "name": "stdout",
     "output_type": "stream",
     "text": [
      "P y t h o n\n",
      "n\n"
     ]
    }
   ],
   "source": [
    "print(a[-6],a[-5],a[-4],a[-3],a[-2],a[-1])\n",
    "print(a[-1])"
   ]
  },
  {
   "cell_type": "code",
   "execution_count": 28,
   "metadata": {},
   "outputs": [
    {
     "ename": "IndexError",
     "evalue": "string index out of range",
     "output_type": "error",
     "traceback": [
      "\u001b[1;31m---------------------------------------------------------------------------\u001b[0m",
      "\u001b[1;31mIndexError\u001b[0m                                Traceback (most recent call last)",
      "\u001b[1;32m<ipython-input-28-db90aa973f65>\u001b[0m in \u001b[0;36m<module>\u001b[1;34m\u001b[0m\n\u001b[1;32m----> 1\u001b[1;33m \u001b[0mprint\u001b[0m\u001b[1;33m(\u001b[0m\u001b[0ma\u001b[0m\u001b[1;33m[\u001b[0m\u001b[1;33m-\u001b[0m\u001b[1;36m10\u001b[0m\u001b[1;33m]\u001b[0m\u001b[1;33m)\u001b[0m\u001b[1;33m\u001b[0m\u001b[1;33m\u001b[0m\u001b[0m\n\u001b[0m",
      "\u001b[1;31mIndexError\u001b[0m: string index out of range"
     ]
    }
   ],
   "source": [
    "print(a[-10])"
   ]
  },
  {
   "cell_type": "code",
   "execution_count": 29,
   "metadata": {},
   "outputs": [
    {
     "ename": "IndexError",
     "evalue": "string index out of range",
     "output_type": "error",
     "traceback": [
      "\u001b[1;31m---------------------------------------------------------------------------\u001b[0m",
      "\u001b[1;31mIndexError\u001b[0m                                Traceback (most recent call last)",
      "\u001b[1;32m<ipython-input-29-ab171a99fdd5>\u001b[0m in \u001b[0;36m<module>\u001b[1;34m\u001b[0m\n\u001b[1;32m----> 1\u001b[1;33m \u001b[0mprint\u001b[0m\u001b[1;33m(\u001b[0m\u001b[0ma\u001b[0m\u001b[1;33m[\u001b[0m\u001b[1;36m7\u001b[0m\u001b[1;33m]\u001b[0m\u001b[1;33m)\u001b[0m\u001b[1;33m\u001b[0m\u001b[1;33m\u001b[0m\u001b[0m\n\u001b[0m",
      "\u001b[1;31mIndexError\u001b[0m: string index out of range"
     ]
    }
   ],
   "source": [
    "print(a[7])"
   ]
  },
  {
   "cell_type": "markdown",
   "metadata": {},
   "source": [
    "# Slice Operator\n",
    "## sequence [start:stop[:step]]\n",
    "    \n",
    "  ## when step is +ve.(in forward direction.)\n",
    "    -start\n",
    "    Optional. Starting index of the slice. Defaults to 0.\n",
    "    -stop\n",
    "    Optional. The last index of the slice or the number of items to get. Defaults to len(sequence).\n",
    "    -step\n",
    "    Optional. Extended slice syntax. Step value of the slice. Defaults to 1.(step value can be either +ve or –ve)\n",
    "    -if +ve then it should be forward direction(left to right) and we have to consider bEgin to end-1\n",
    "    -if -ve then it should be backward direction(right to left) and we have to consider bEgin to end+1"
   ]
  },
  {
   "cell_type": "markdown",
   "metadata": {},
   "source": [
    "                               -6   -5    -4    -3     -2     -1  (-ve step)\n",
    "                                0    1     2     3      4      5  (+ve step)\n",
    "                              |----|----|-----|-----|-----|------|\n",
    "                              |  p | y  |  t  |  h  |  o  | n    |\n",
    "                              |----|----|-----|-----|-----|------|"
   ]
  },
  {
   "cell_type": "code",
   "execution_count": 7,
   "metadata": {},
   "outputs": [
    {
     "name": "stdout",
     "output_type": "stream",
     "text": [
      "Python\n"
     ]
    }
   ],
   "source": [
    "print(a)"
   ]
  },
  {
   "cell_type": "code",
   "execution_count": 8,
   "metadata": {},
   "outputs": [
    {
     "name": "stdout",
     "output_type": "stream",
     "text": [
      "Python\n",
      "Python\n"
     ]
    }
   ],
   "source": [
    "print(a[:])\n",
    "print(a[::])"
   ]
  },
  {
   "cell_type": "markdown",
   "metadata": {},
   "source": [
    "# Very Imp\n",
    "    -In the backward direction if end value is -1 then result is always empty. \n",
    "    -In the forward direction if end value is 0 then result is always empty.\n",
    "  ## when step is -ve.(in backward direction.)\n",
    "    -start\n",
    "    Optional. Starting index of the slice. Defaults to -1.\n",
    "    -stop\n",
    "    Optional. The last index of the slice or the number of items to get. Defaults to -(len(sequence)+1).\n",
    "     -step\n",
    "    Optional. Extended slice syntax. Step value of the slice. Defaults to -1."
   ]
  },
  {
   "cell_type": "markdown",
   "metadata": {},
   "source": [
    "                               -6   -5    -4    -3     -2     -1  (-ve step)\n",
    "                                0    1     2     3      4      5  (+ve step)\n",
    "                              |----|----|-----|-----|-----|------|\n",
    "                              |  p | y  |  t  |  h  |  o  | n    |\n",
    "                              |----|----|-----|-----|-----|------|"
   ]
  },
  {
   "cell_type": "code",
   "execution_count": 9,
   "metadata": {},
   "outputs": [
    {
     "name": "stdout",
     "output_type": "stream",
     "text": [
      "Pytho\n"
     ]
    }
   ],
   "source": [
    "print(a[:-1])"
   ]
  },
  {
   "cell_type": "code",
   "execution_count": 10,
   "metadata": {},
   "outputs": [
    {
     "name": "stdout",
     "output_type": "stream",
     "text": [
      "nohtyP\n"
     ]
    }
   ],
   "source": [
    "print(a[::-1])"
   ]
  },
  {
   "cell_type": "code",
   "execution_count": 11,
   "metadata": {},
   "outputs": [],
   "source": [
    "# Mathematical Operator\n",
    "## Concatenation Operator\n",
    "## Repetition Operator"
   ]
  },
  {
   "cell_type": "code",
   "execution_count": 12,
   "metadata": {},
   "outputs": [
    {
     "name": "stdout",
     "output_type": "stream",
     "text": [
      "HelloHello\n",
      "HelloHello\n"
     ]
    }
   ],
   "source": [
    "#Use of repetition operator\n",
    "print(\"Hello\"*2)\n",
    "print(2*\"Hello\")"
   ]
  },
  {
   "cell_type": "code",
   "execution_count": 13,
   "metadata": {},
   "outputs": [
    {
     "name": "stdout",
     "output_type": "stream",
     "text": [
      "HelloWorld\n"
     ]
    }
   ],
   "source": [
    "#Use of concatenation operator in print statement\n",
    "print(\"Hello\"+\"World\")"
   ]
  },
  {
   "cell_type": "code",
   "execution_count": 14,
   "metadata": {},
   "outputs": [
    {
     "name": "stdout",
     "output_type": "stream",
     "text": [
      "6\n"
     ]
    }
   ],
   "source": [
    "print(len(a))"
   ]
  },
  {
   "cell_type": "code",
   "execution_count": 15,
   "metadata": {},
   "outputs": [
    {
     "name": "stdout",
     "output_type": "stream",
     "text": [
      "True\n",
      "False\n"
     ]
    }
   ],
   "source": [
    "# Membership Operator(in ,not in )\n",
    "print('n' in a)\n",
    "print('n' not in a)"
   ]
  },
  {
   "cell_type": "markdown",
   "metadata": {},
   "source": [
    "# Comparison Operator\n",
    "     -We can use comparison operators (<,<=,>,>=) and equality operators(==,!=) for strings.\n",
    "     -Comparison will be performed based on alphabetical order.(dictionary order)\n",
    "     -   |----------------|                   \n",
    "         |   a=97  z=122  |\n",
    "         |   A=65  Z=90   |      \n",
    "         |----------------|\n",
    "         |   Space=32     |\n",
    "         |   0=48         |\n",
    "         |   :            |\n",
    "         |   :            |\n",
    "         |   9=57         |\n",
    "         |----------------|\n",
    "     \n",
    "     "
   ]
  },
  {
   "cell_type": "code",
   "execution_count": 16,
   "metadata": {},
   "outputs": [
    {
     "name": "stdout",
     "output_type": "stream",
     "text": [
      "True\n"
     ]
    }
   ],
   "source": [
    "first_word='python'\n",
    "second_word='flask'\n",
    "print(first_word>second_word)"
   ]
  },
  {
   "cell_type": "code",
   "execution_count": 17,
   "metadata": {},
   "outputs": [
    {
     "name": "stdout",
     "output_type": "stream",
     "text": [
      "False\n"
     ]
    }
   ],
   "source": [
    "first_word='python software'\n",
    "second_word='zero'\n",
    "print(first_word>second_word)"
   ]
  },
  {
   "cell_type": "markdown",
   "metadata": {},
   "source": [
    "# String Methods\n",
    "## Removing spaces from the string:\n",
    "       We can use the following 3 methods\n",
    "       1. rstrip()===>To remove spaces at right hand side \n",
    "       2. lstrip()===>To remove spaces at left hand side \n",
    "       3. strip() ==>To remove spaces both sides"
   ]
  },
  {
   "cell_type": "markdown",
   "metadata": {},
   "source": [
    "## Finding Substring:\n",
    "    for forward :                    for Backward:\n",
    "    -----------                      -------------\n",
    "    find() {case-sensitive}            rfind()-last occurence of the particular value.\n",
    "    index()                            rindex()-last occurence of the particular value\n",
    "    \n",
    "           |-------(if present) (index) return  \n",
    "    find---|\n",
    "           |-------(if not present) (-1) return\n",
    "           \n",
    "           |-------(if present) (index) return  \n",
    "    index--|\n",
    "           |-------(if not present) (Value Error) return"
   ]
  },
  {
   "cell_type": "code",
   "execution_count": 18,
   "metadata": {},
   "outputs": [
    {
     "name": "stdout",
     "output_type": "stream",
     "text": [
      "0\n",
      "8\n",
      "0\n"
     ]
    },
    {
     "ename": "ValueError",
     "evalue": "substring not found",
     "output_type": "error",
     "traceback": [
      "\u001b[1;31m---------------------------------------------------------------------------\u001b[0m",
      "\u001b[1;31mValueError\u001b[0m                                Traceback (most recent call last)",
      "\u001b[1;32m<ipython-input-18-1eae2573764b>\u001b[0m in \u001b[0;36m<module>\u001b[1;34m\u001b[0m\n\u001b[0;32m      3\u001b[0m \u001b[0mprint\u001b[0m\u001b[1;33m(\u001b[0m\u001b[0ma1\u001b[0m\u001b[1;33m.\u001b[0m\u001b[0mrfind\u001b[0m\u001b[1;33m(\u001b[0m\u001b[1;34m'n'\u001b[0m\u001b[1;33m)\u001b[0m\u001b[1;33m)\u001b[0m\u001b[1;33m\u001b[0m\u001b[1;33m\u001b[0m\u001b[0m\n\u001b[0;32m      4\u001b[0m \u001b[0mprint\u001b[0m\u001b[1;33m(\u001b[0m\u001b[0ma1\u001b[0m\u001b[1;33m.\u001b[0m\u001b[0mindex\u001b[0m\u001b[1;33m(\u001b[0m\u001b[1;34m'P'\u001b[0m\u001b[1;33m)\u001b[0m\u001b[1;33m)\u001b[0m\u001b[1;33m\u001b[0m\u001b[1;33m\u001b[0m\u001b[0m\n\u001b[1;32m----> 5\u001b[1;33m \u001b[0mprint\u001b[0m\u001b[1;33m(\u001b[0m\u001b[0ma1\u001b[0m\u001b[1;33m.\u001b[0m\u001b[0mrindex\u001b[0m\u001b[1;33m(\u001b[0m\u001b[1;34m'Z'\u001b[0m\u001b[1;33m)\u001b[0m\u001b[1;33m)\u001b[0m\u001b[1;33m\u001b[0m\u001b[1;33m\u001b[0m\u001b[0m\n\u001b[0m",
      "\u001b[1;31mValueError\u001b[0m: substring not found"
     ]
    }
   ],
   "source": [
    "a1=\"Pythonnnn\"\n",
    "print(a1.find('P'))\n",
    "print(a1.rfind('n'))\n",
    "print(a1.index('P'))\n",
    "print(a1.rindex('Z'))"
   ]
  },
  {
   "cell_type": "markdown",
   "metadata": {},
   "source": [
    "## Counting Substring:\n",
    "    -s.count(substring)\n",
    "    -s.count(substring,begin,end)"
   ]
  },
  {
   "cell_type": "code",
   "execution_count": 32,
   "metadata": {},
   "outputs": [
    {
     "name": "stdout",
     "output_type": "stream",
     "text": [
      "2\n",
      "1\n"
     ]
    }
   ],
   "source": [
    "s=\"Learn Python\"\n",
    "print(s.count('n'))\n",
    "print(s.count('n',0,5))"
   ]
  },
  {
   "cell_type": "markdown",
   "metadata": {},
   "source": [
    "## Replacing String with another String:\n",
    "     -s.replace(oldstring,newstring)"
   ]
  },
  {
   "cell_type": "code",
   "execution_count": 34,
   "metadata": {},
   "outputs": [
    {
     "name": "stdout",
     "output_type": "stream",
     "text": [
      "Learn Django\n"
     ]
    }
   ],
   "source": [
    "s1=s.replace(\"Python\",\"Django\")\n",
    "print(s1)"
   ]
  },
  {
   "cell_type": "markdown",
   "metadata": {},
   "source": [
    "## Spliting String:\n",
    "     -s.split(separator)\n",
    "     -s.split(separator,index)\n",
    "     -default separator is space."
   ]
  },
  {
   "cell_type": "code",
   "execution_count": 39,
   "metadata": {},
   "outputs": [
    {
     "name": "stdout",
     "output_type": "stream",
     "text": [
      "['Learn', 'Python']\n"
     ]
    }
   ],
   "source": [
    "s2=s.split()\n",
    "print(s2)"
   ]
  },
  {
   "cell_type": "markdown",
   "metadata": {},
   "source": [
    "## Joining String:\n",
    "    s=separator.join(group of strings)"
   ]
  },
  {
   "cell_type": "code",
   "execution_count": 41,
   "metadata": {},
   "outputs": [
    {
     "data": {
      "text/plain": [
       "'Learn Python'"
      ]
     },
     "execution_count": 41,
     "metadata": {},
     "output_type": "execute_result"
    }
   ],
   "source": [
    "s3=' '.join(s2)\n",
    "s3"
   ]
  },
  {
   "cell_type": "markdown",
   "metadata": {},
   "source": [
    "## Change Case Of String:\n",
    "    -(s.upper(),s.lower(),s.title(),s.capitalize(),s.swapcase())"
   ]
  },
  {
   "cell_type": "code",
   "execution_count": 42,
   "metadata": {},
   "outputs": [
    {
     "name": "stdout",
     "output_type": "stream",
     "text": [
      "LEARN PYTHON\n",
      "learn python\n",
      "Learn Python\n",
      "Learn python\n",
      "lEARN pYTHON\n"
     ]
    }
   ],
   "source": [
    "print(s.upper())\n",
    "print(s.lower())\n",
    "print(s.title())\n",
    "print(s.capitalize())\n",
    "print(s.swapcase())"
   ]
  },
  {
   "cell_type": "markdown",
   "metadata": {},
   "source": [
    "## Check start & end part of the string:\n",
    "### s.startswith(substring(case-sensitive))\n",
    "### s.endswith(substring(case-sensitive))"
   ]
  },
  {
   "cell_type": "code",
   "execution_count": 43,
   "metadata": {},
   "outputs": [
    {
     "name": "stdout",
     "output_type": "stream",
     "text": [
      "True\n",
      "False\n"
     ]
    }
   ],
   "source": [
    "print(s.startswith('Learn'))\n",
    "print(s.endswith('Learn'))"
   ]
  },
  {
   "cell_type": "code",
   "execution_count": null,
   "metadata": {},
   "outputs": [],
   "source": []
  }
 ],
 "metadata": {
  "kernelspec": {
   "display_name": "Python 3",
   "language": "python",
   "name": "python3"
  },
  "language_info": {
   "codemirror_mode": {
    "name": "ipython",
    "version": 3
   },
   "file_extension": ".py",
   "mimetype": "text/x-python",
   "name": "python",
   "nbconvert_exporter": "python",
   "pygments_lexer": "ipython3",
   "version": "3.8.3"
  }
 },
 "nbformat": 4,
 "nbformat_minor": 4
}
