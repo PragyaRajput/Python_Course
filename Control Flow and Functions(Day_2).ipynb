{
 "cells": [
  {
   "cell_type": "markdown",
   "metadata": {},
   "source": [
    "# Loops"
   ]
  },
  {
   "cell_type": "markdown",
   "metadata": {},
   "source": [
    "                                   Loops(Control Flow)\n",
    "                                            |\n",
    "                   |------------------------|----------------------------------|\n",
    "                   |                        |                                  |\n",
    "                 Conditional            Iterative                            Transfer\n",
    "                 Statements             Statements                           Statements\n",
    "                 1)if                   1)for                               1)break\n",
    "                 2)if-elif              2)while                             2)continue\n",
    "                 3)if-elif-else                                             3)pass"
   ]
  },
  {
   "cell_type": "markdown",
   "metadata": {},
   "source": [
    "<div class='alert alert-block alert-danger'>\n",
    "    No <b>SWITCH</b> statement in <b>Python</b></div>"
   ]
  },
  {
   "cell_type": "markdown",
   "metadata": {},
   "source": [
    " # Conditional Statements\n",
    "   ## Combinations are:\n",
    "    1. if\n",
    "    2. if-else\n",
    "    3. if-elif\n",
    "    4. if-elif-else\n",
    "    \n",
    "    -else part is an optional."
   ]
  },
  {
   "cell_type": "code",
   "execution_count": null,
   "metadata": {},
   "outputs": [],
   "source": [
    "a=10\n",
    "if(a>1):\n",
    "      print(\"Yes\")"
   ]
  },
  {
   "cell_type": "code",
   "execution_count": null,
   "metadata": {},
   "outputs": [],
   "source": [
    "a=0\n",
    "if(a>1):\n",
    "      print(\"Yes\")\n",
    "else:\n",
    "    print(\"No\")"
   ]
  },
  {
   "cell_type": "code",
   "execution_count": null,
   "metadata": {},
   "outputs": [],
   "source": [
    "a=0\n",
    "if(a>1):\n",
    "      print(\"Yes\")\n",
    "elif(a<1):\n",
    "    print(\"No\")"
   ]
  },
  {
   "cell_type": "code",
   "execution_count": null,
   "metadata": {},
   "outputs": [],
   "source": [
    "a=1\n",
    "if(a>1):\n",
    "      print(\"Yes\")\n",
    "elif(a<1):\n",
    "    print(\"No\")\n",
    "else:\n",
    "    print(\"Not Satisfied\")"
   ]
  },
  {
   "cell_type": "markdown",
   "metadata": {},
   "source": [
    "# If-Elif-Else Sequence Importance(##Error)"
   ]
  },
  {
   "cell_type": "code",
   "execution_count": null,
   "metadata": {},
   "outputs": [],
   "source": [
    "a=1\n",
    "if(a>1):\n",
    "      print(\"Yes\")\n",
    "else:\n",
    "    print(\"Not Satisfied\")\n",
    "elif(a<1):\n",
    "    print(\"No\")"
   ]
  },
  {
   "cell_type": "markdown",
   "metadata": {},
   "source": [
    "# Iterative Statements\n",
    "- ## for Loop -string or collections(dict,set,list,tuple,range)\n",
    "- list syntax:\n",
    "     l=[10,20,30]\n",
    "- tuple syntax:\n",
    "     t=(10,20,30)\n",
    "- set syntax:\n",
    "     s={10,20,30}\n",
    "- dict syntax:\n",
    "     d={'a':'apple','b':'bat','c':'cat'}\n",
    "- ## while Loop"
   ]
  },
  {
   "cell_type": "markdown",
   "metadata": {},
   "source": [
    "## For Loop"
   ]
  },
  {
   "cell_type": "code",
   "execution_count": null,
   "metadata": {},
   "outputs": [],
   "source": [
    "a=\"Hello\"\n",
    "for x in a:\n",
    "       print(\"Hello\")\n",
    "print(len(a))"
   ]
  },
  {
   "cell_type": "code",
   "execution_count": null,
   "metadata": {},
   "outputs": [],
   "source": [
    "a=\"Hello\"\n",
    "for x in a:\n",
    "       print(x)"
   ]
  },
  {
   "cell_type": "code",
   "execution_count": null,
   "metadata": {},
   "outputs": [],
   "source": [
    "a=input(\"Enter the some String\")\n",
    "i=0\n",
    "for x in a:\n",
    "    print(\"Character at index\",i,\"is\",x)\n",
    "    i=i+1\n",
    "    "
   ]
  },
  {
   "cell_type": "markdown",
   "metadata": {},
   "source": [
    "## range():\n",
    "    represents an immutable sequence of numbers and is commonly used for looping a specific number of times in for loops.\n",
    "   ## syntax- range(start, stop, step)\n",
    "   ### stop =value-1\n",
    "    default values:\n",
    "    - start:0\n",
    "    - stop:len(){total length of function}\n",
    "    - step:1"
   ]
  },
  {
   "cell_type": "code",
   "execution_count": null,
   "metadata": {},
   "outputs": [],
   "source": [
    "for x in range(5):\n",
    "    print(\"Hello Python\")"
   ]
  },
  {
   "cell_type": "code",
   "execution_count": null,
   "metadata": {},
   "outputs": [],
   "source": [
    "for x in range(5,0,-1):\n",
    "    print(\"Hello Python\")\n",
    "    "
   ]
  },
  {
   "cell_type": "markdown",
   "metadata": {},
   "source": [
    "# Working of range with negative values:\n",
    "   - r[i] = start + step*i\n",
    "   - i >= 0\n",
    "   - r[i] > stop\n",
    "             \n",
    "   \n",
    " eg: \n",
    " <!DOCTYPE html>\n",
    "<html>\n",
    "<head>\n",
    "<style>\n",
    "table {\n",
    "  font-family: arial, sans-serif;\n",
    "  border-collapse: collapse;\n",
    "  width: 100%;\n",
    "}\n",
    "\n",
    "td, th {\n",
    "  border: 1px solid #dddddd;\n",
    "  text-align: left;\n",
    "  padding: 8px;\n",
    "}\n",
    "\n",
    "tr:nth-child(even) {\n",
    "  background-color: #dddddd;\n",
    "}\n",
    "</style>\n",
    "</head>\n",
    "<body>\n",
    "<table>\n",
    "  <tr>\n",
    "      <th>r[i]</th>\n",
    "      <th>i value</th>\n",
    "      <th>r[i]>stop</th>\n",
    "      <th>Condition</th>\n",
    "  </tr>\n",
    "  <tr>\n",
    "       <td>r[0]=5+(-1) *0 =<h2> 5 </h2></td>\n",
    "       <td>0</td>\n",
    "       <td>5>0</td>\n",
    "        <td>Satisfied</td>\n",
    "    </tr>\n",
    "  <tr>\n",
    "       <td>r[1]=5+(-1)*1=<h2> 4 </h2></td>\n",
    "        <td>1</td>\n",
    "      <td>4>0</td>\n",
    "         <td>Satisfied</td>\n",
    "     </tr>\n",
    "     <tr>\n",
    "         <td> r[2]=5+(-1)*2=<h2> 3 </h2></td>\n",
    "       <td>2</td>\n",
    "        <td>3>0</td>\n",
    "         <td>Satisfied</td>\n",
    "      </tr>\n",
    "      <tr>\n",
    "         <td>r[3]=5+(-1)*3=<h2> 2</h2></td>\n",
    "        <td>3</td>\n",
    "        <td>2>0</td>\n",
    "         <td>Satisfied</td>\n",
    "     </tr>\n",
    "   <tr>\n",
    "        <td> r[4]=5+(-1)*4=<h2> 1</h2></td>\n",
    "       <td>4</td>\n",
    "        <td>1>0</td>\n",
    "          <td>Satisfied</td>\n",
    "      </tr>\n",
    "     <tr>\n",
    "       <td>r[4]=5+(-1)*5=<h2> 0</h2></td>\n",
    "        <td>5</td>\n",
    "       <td>0>0</td>\n",
    "          <td>Not Satisfied</td>\n",
    "     </tr>\n",
    "</table>\n",
    "\n",
    "</body>\n",
    "</html>\n"
   ]
  },
  {
   "cell_type": "markdown",
   "metadata": {},
   "source": [
    "<html>\n",
    "    <head>\n",
    "    <style>\n",
    "    table {\n",
    "     font-family: arial, sans-serif;\n",
    "     border-collapse: collapse;\n",
    "     width: 100%;\n",
    "    }\n",
    "    \n",
    "    td, th {\n",
    "      border: 1px solid #dddddd;\n",
    "      text-align: left;\n",
    "      padding: 8px;\n",
    "    }\n",
    "    \n",
    "    tr:nth-child(even) {\n",
    "      background-color: #dddddd;\n",
    "    }\n",
    "    </style>\n",
    "    </head>\n",
    "    <body>\n",
    "    \n",
    "    <table>\n",
    "     <tr>\n",
    "        <th>r[i]</th>\n",
    "        <th>i value</th>\n",
    "       <th>r[i]>stop</th>\n",
    "          <th>Condition</th>\n",
    "      </tr>\n",
    "      <tr>\n",
    "            <td>r[0]=5+(-1) *0 =<h2> 5 </h2></td>\n",
    "        <td>0</td>\n",
    "        <td>5>0</td>\n",
    "          <td>Satisfied</td>\n",
    "      </tr>\n",
    "      <tr>\n",
    "       <td>r[1]=5+(-1)*1=<h2> 4 </h2></td>\n",
    "       <td>1</td>\n",
    "        <td>4>0</td>\n",
    "         <td>Satisfied</td>\n",
    "      </tr>\n",
    "      <tr>\n",
    "          <td> r[2]=5+(-1)*2=<h2> 3 </h2></td>\n",
    "       <td>2</td>\n",
    "        <td>3>0</td>\n",
    "          <td>Satisfied</td>\n",
    "      </tr>\n",
    "       <tr>\n",
    "          <td>r[3]=5+(-1)*3=<h2> 2</h2></td>\n",
    "        <td>3</td>\n",
    "       <td>2>0</td>\n",
    "          <td>Satisfied</td>\n",
    "      </tr>\n",
    "     <tr>\n",
    "          <td> r[4]=5+(-1)*4=<h2> 1</h2></td>\n",
    "        <td>4</td>\n",
    "        <td>1>0</td>\n",
    "          <td>Satisfied</td>\n",
    "      </tr>\n",
    "      <tr>\n",
    "        <td>r[4]=5+(-1)*5=<h2> 0</h2></td>\n",
    "        <td>5</td>\n",
    "       <td>0>0</td>\n",
    "          <td>Not Satisfied</td>\n",
    "     </tr>\n",
    "    </table>\n",
    "    \n",
    "    </body>\n",
    "    </html>"
   ]
  },
  {
   "cell_type": "code",
   "execution_count": null,
   "metadata": {},
   "outputs": [],
   "source": [
    "for x in range(5,0,-1):\n",
    "    print(x)"
   ]
  },
  {
   "cell_type": "code",
   "execution_count": null,
   "metadata": {},
   "outputs": [],
   "source": [
    "# For Loop for list:\n",
    "l=[10,20,30,10]\n",
    "sum=0\n",
    "for x in l:\n",
    "    sum=sum+x\n",
    "print(\"Sum:\",sum)"
   ]
  },
  {
   "cell_type": "code",
   "execution_count": null,
   "metadata": {},
   "outputs": [],
   "source": [
    "# For Loop for tuple:\n",
    "l=(10,20,30,10)\n",
    "sum=0\n",
    "for x in l:\n",
    "    sum=sum+x\n",
    "print(\"Sum:\",sum)"
   ]
  },
  {
   "cell_type": "code",
   "execution_count": null,
   "metadata": {},
   "outputs": [],
   "source": [
    "# For Loop for set:\n",
    "l={10,20,30,10}\n",
    "sum=0\n",
    "for x in l:\n",
    "    sum=sum+x\n",
    "print(\"Sum:\",sum)"
   ]
  },
  {
   "cell_type": "code",
   "execution_count": null,
   "metadata": {},
   "outputs": [],
   "source": [
    "# For Loop for dict:\n",
    "d={1:\"apple\",2:\"muskmelon\",3:\"orange\"}\n",
    "for x in d.keys():\n",
    "    print(x)\n",
    "   \n"
   ]
  },
  {
   "cell_type": "markdown",
   "metadata": {},
   "source": [
    "# While Loop\n",
    "   ## Syntax:\n",
    "    while condition : \n",
    "      body\n",
    "      \n",
    "     a  |  a<5  | Condtion|\n",
    "    ----|-------|---------|\n",
    "    1   | 1<5   | True    |\n",
    "    2   | 2<5   | True    |\n",
    "    3   | 3<5   | True    |\n",
    "    4   | 4<5   | True    |\n",
    "    5   | 5<5   | False   |"
   ]
  },
  {
   "cell_type": "code",
   "execution_count": null,
   "metadata": {},
   "outputs": [],
   "source": [
    "a=1\n",
    "while a<5:\n",
    "    print(a)\n",
    "    a=a+1"
   ]
  },
  {
   "cell_type": "code",
   "execution_count": null,
   "metadata": {},
   "outputs": [],
   "source": [
    "# Nested Loop\n",
    "for i in range(4):\n",
    "    for j in range(4):\n",
    "        print(\"i= \",i,\"j= \",j)"
   ]
  },
  {
   "cell_type": "markdown",
   "metadata": {},
   "source": [
    "# Transfer Statements"
   ]
  },
  {
   "cell_type": "markdown",
   "metadata": {},
   "source": [
    "# Break"
   ]
  },
  {
   "cell_type": "code",
   "execution_count": null,
   "metadata": {},
   "outputs": [],
   "source": [
    "for x in range(5):\n",
    "    if x==2:\n",
    "        print(\"Loop Break\")\n",
    "        break\n",
    "    print(x)"
   ]
  },
  {
   "cell_type": "markdown",
   "metadata": {},
   "source": [
    " # Continue\n",
    " "
   ]
  },
  {
   "cell_type": "code",
   "execution_count": null,
   "metadata": {},
   "outputs": [],
   "source": [
    "for x in range(5):\n",
    "    if x==2:\n",
    "        print(\"Loop Break\")\n",
    "        continue\n",
    "    print(x)"
   ]
  },
  {
   "cell_type": "markdown",
   "metadata": {},
   "source": [
    "# Pass"
   ]
  },
  {
   "cell_type": "code",
   "execution_count": null,
   "metadata": {},
   "outputs": [],
   "source": [
    "for x in range(5):\n",
    "    if x==2:\n",
    "        print(\"Loop Break\")\n",
    "        pass\n",
    "    print(x)"
   ]
  },
  {
   "cell_type": "code",
   "execution_count": 5,
   "metadata": {},
   "outputs": [
    {
     "name": "stdout",
     "output_type": "stream",
     "text": [
      "10 9 8 7 6 5 4 3 2 1 "
     ]
    }
   ],
   "source": [
    "# print 1 to n without using loop in python\n",
    "def printNo(n): \n",
    "       if n > 0:\n",
    "             \n",
    "            print(n, end = ' ') \n",
    "            printNo(n - 1)\n",
    "printNo(10)"
   ]
  },
  {
   "cell_type": "markdown",
   "metadata": {},
   "source": [
    "# Function:\n",
    "A function is a block of organized, reusable code that is used to perform a single, related action.\n",
    "## Advantage:\n",
    "    Code Reusability."
   ]
  },
  {
   "cell_type": "code",
   "execution_count": null,
   "metadata": {},
   "outputs": [],
   "source": [
    " #Functions\n",
    "def sum(a,b):\n",
    "    print(a+b)\n",
    "sum(10,20)"
   ]
  },
  {
   "cell_type": "markdown",
   "metadata": {},
   "source": [
    "<div class='alert alert-block alert-info'>\n",
    "     <b>def</b> keyword is <b>Compulsory.</b></div>\n",
    "    <div class='alert alert-block alert-info'>\n",
    "     <b>return</b> keyword is an <b>Optional.</b></div>\n",
    "    <div class='alert alert-block alert-danger'>\n",
    "     <b>by default</b> return value is <b>None.</b></div>"
   ]
  },
  {
   "cell_type": "code",
   "execution_count": null,
   "metadata": {},
   "outputs": [],
   "source": [
    "# Infinite Loop\n",
    "a=0\n",
    "while True:\n",
    "    a=a+1\n",
    "    print(\"Hello\")\n",
    "    \n",
    "        \n",
    "       "
   ]
  },
  {
   "cell_type": "markdown",
   "metadata": {},
   "source": [
    "# Built in functions:\n",
    "     1.type()-which datatype is present.\n",
    "     2.id()-address check.\n",
    "     3.print()-for printing.\n",
    "     4.len()-for checking length.{NOT applicable for int} etc"
   ]
  },
  {
   "cell_type": "code",
   "execution_count": null,
   "metadata": {},
   "outputs": [],
   "source": [
    "a=10\n",
    "b='hello'\n",
    "print(type(a))\n",
    "print(id(a))\n",
    "#print(len(a))\n",
    "print(type(b))\n",
    "print(id(b))\n",
    "print(len(b))"
   ]
  },
  {
   "cell_type": "code",
   "execution_count": null,
   "metadata": {},
   "outputs": [],
   "source": []
  }
 ],
 "metadata": {
  "kernelspec": {
   "display_name": "Python 3",
   "language": "python",
   "name": "python3"
  },
  "language_info": {
   "codemirror_mode": {
    "name": "ipython",
    "version": 3
   },
   "file_extension": ".py",
   "mimetype": "text/x-python",
   "name": "python",
   "nbconvert_exporter": "python",
   "pygments_lexer": "ipython3",
   "version": "3.8.5"
  }
 },
 "nbformat": 4,
 "nbformat_minor": 4
}
