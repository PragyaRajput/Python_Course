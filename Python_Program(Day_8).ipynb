{
 "cells": [
  {
   "cell_type": "code",
   "execution_count": null,
   "metadata": {},
   "outputs": [],
   "source": [
    "#input:hello Python Learner\n",
    "#output:renraeL nohtyP olleh\n",
    "\n",
    "\n",
    "print(\"Hello String!!!\")"
   ]
  },
  {
   "cell_type": "code",
   "execution_count": null,
   "metadata": {},
   "outputs": [],
   "source": [
    "s=input(\"Enter some String:\")\n",
    "print(s[::-1])"
   ]
  },
  {
   "cell_type": "code",
   "execution_count": null,
   "metadata": {},
   "outputs": [],
   "source": [
    "l=''.join(reversed(s))\n",
    "print(l)"
   ]
  },
  {
   "cell_type": "code",
   "execution_count": null,
   "metadata": {},
   "outputs": [],
   "source": [
    "n=len(s)-1\n",
    "target=''\n",
    "while n>=0:\n",
    "    target=target+s[n]\n",
    "    n=n-1\n",
    "print(target)\n",
    "    "
   ]
  },
  {
   "cell_type": "code",
   "execution_count": null,
   "metadata": {},
   "outputs": [],
   "source": [
    "#print character at even and odd position of a given string\n",
    "s=input(\"Enter some String:\")\n",
    "print(\"Character present at even position:\",s[::2])\n",
    "print(\"Character present at odd position:\",s[1::2])"
   ]
  },
  {
   "cell_type": "code",
   "execution_count": null,
   "metadata": {},
   "outputs": [],
   "source": [
    "#input:hello Python Learner\n",
    "#output:Learner Python hello"
   ]
  },
  {
   "cell_type": "code",
   "execution_count": null,
   "metadata": {},
   "outputs": [],
   "source": [
    "# using for Loop\n",
    "s=input(\"Enter some String:\")\n",
    "l=s.split()\n",
    "l1=[]\n",
    "for x in l[::-1]:\n",
    "    l1.append(x)\n",
    "target=\" \".join(l1)\n",
    "print(target)"
   ]
  },
  {
   "cell_type": "code",
   "execution_count": null,
   "metadata": {},
   "outputs": [],
   "source": [
    "# using while Loop\n",
    "s=input(\"Enter some String:\")\n",
    "l=s.split()\n",
    "l1=[]\n",
    "i=len(l)-1\n",
    "while i>=0:\n",
    "    l1.append(l[i])\n",
    "    i=i-1\n",
    "target=\" \".join(l1) \n",
    "print(target)"
   ]
  },
  {
   "cell_type": "code",
   "execution_count": null,
   "metadata": {},
   "outputs": [],
   "source": [
    "# using while Loop\n",
    "s=input(\"Enter some String:\")\n",
    "l=s.split()\n",
    "l1=[]\n",
    "i=0\n",
    "while i<len(l):\n",
    "    l1.append(l[i][::-1])\n",
    "    i=i+1\n",
    "target=\" \".join(l1) \n",
    "print(target)"
   ]
  },
  {
   "cell_type": "code",
   "execution_count": null,
   "metadata": {},
   "outputs": [],
   "source": [
    "# using for Loop\n",
    "s=input(\"Enter some String:\")\n",
    "l=s.split()\n",
    "l1=[]\n",
    "for x in l:\n",
    "    l1.append(x[::-1])\n",
    "target=\" \".join(l1)\n",
    "print(target)"
   ]
  },
  {
   "cell_type": "code",
   "execution_count": null,
   "metadata": {},
   "outputs": [],
   "source": []
  },
  {
   "cell_type": "code",
   "execution_count": null,
   "metadata": {},
   "outputs": [],
   "source": [
    "#print character at even and odd position of a given string\n",
    "#using while Loop\n",
    "s=input(\"Enter some String:\")\n",
    "i=0\n",
    "print(\"Character present at Even Position!!!\")\n",
    "while i<len(s):\n",
    "    print(s[i],end='')\n",
    "    i=i+2\n",
    "print()\n",
    "print(\"Character present at Odd Position!!!\")\n",
    "i=1\n",
    "while i<len(s):\n",
    "    print(s[i],end='')\n",
    "    i=i+2\n",
    "\n",
    "    "
   ]
  },
  {
   "cell_type": "code",
   "execution_count": null,
   "metadata": {},
   "outputs": [],
   "source": [
    "#print character at even and odd position of a given string\n",
    "#using for Loop\n",
    "s=input(\"Enter some String:\")\n",
    "print(\"Character present at Even Position!!!\")\n",
    "for x in s[::2]:\n",
    "    print(x,end='')\n",
    "print()\n",
    "print(\"Character present at Odd Position!!!\")\n",
    "for x in s[1::2]:\n",
    "    print(x,end='')"
   ]
  },
  {
   "cell_type": "code",
   "execution_count": null,
   "metadata": {},
   "outputs": [],
   "source": [
    "#input:B4A1D3\n",
    "#output:(BAD413)(ABD134)\n",
    "s=input(\"Enter some String:\")\n",
    "s1=s2=output=''\n",
    "for x in s:\n",
    "    if x.isalpha():\n",
    "        s1=s1+x\n",
    "    else:\n",
    "        s2=s2+x\n",
    "for x in sorted(s1):\n",
    "    output=output+x\n",
    "for x in sorted(s2):\n",
    "    output=output+x\n",
    "print(output)"
   ]
  },
  {
   "cell_type": "code",
   "execution_count": null,
   "metadata": {},
   "outputs": [],
   "source": [
    "#input:B4A1D3\n",
    "#output:BBBBADD\n",
    "s=input(\"Enter some String:\")\n",
    "output=''\n",
    "for x in s:\n",
    "    if x.isalpha():\n",
    "        output=output+x\n",
    "        previous=x\n",
    "    elif x.isdigit():\n",
    "        output=output+previous*(int(x)-1)\n",
    "print(output)"
   ]
  },
  {
   "cell_type": "code",
   "execution_count": null,
   "metadata": {},
   "outputs": [],
   "source": []
  }
 ],
 "metadata": {
  "kernelspec": {
   "display_name": "Python 3",
   "language": "python",
   "name": "python3"
  },
  "language_info": {
   "codemirror_mode": {
    "name": "ipython",
    "version": 3
   },
   "file_extension": ".py",
   "mimetype": "text/x-python",
   "name": "python",
   "nbconvert_exporter": "python",
   "pygments_lexer": "ipython3",
   "version": "3.8.5"
  }
 },
 "nbformat": 4,
 "nbformat_minor": 4
}
